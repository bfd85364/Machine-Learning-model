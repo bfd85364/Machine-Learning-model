{
 "cells": [
  {
   "cell_type": "code",
   "execution_count": 22,
   "id": "bd78c50c-9af8-4035-a10a-398da1101deb",
   "metadata": {},
   "outputs": [
    {
     "data": {
      "text/plain": [
       "SVDResult(U=array([[-7.88170109e-01,  1.87057766e-16, -6.15457455e-01],\n",
       "       [ 3.84473224e-01, -7.80868809e-01, -4.92365964e-01],\n",
       "       [-4.80591530e-01, -6.24695048e-01,  6.15457455e-01]]), S=array([1.62480768, 1.        ]), Vh=array([[-0.78086881,  0.62469505],\n",
       "       [-0.62469505, -0.78086881]]))"
      ]
     },
     "execution_count": 22,
     "metadata": {},
     "output_type": "execute_result"
    }
   ],
   "source": [
    "import numpy as np\n",
    "import pandas as pd\n",
    "\n",
    "A=np.array([[1,-0.8],\n",
    "            [0,1],\n",
    "            [1,0]])\n",
    "\n",
    "np.linalg.svd(A)\n",
    "\n"
   ]
  },
  {
   "cell_type": "code",
   "execution_count": null,
   "id": "43eb6cf5-a8eb-4931-bdb3-53c5abd68ed7",
   "metadata": {},
   "outputs": [],
   "source": []
  },
  {
   "cell_type": "code",
   "execution_count": null,
   "id": "cffa5984-cc55-4378-995c-53fea1ae9e49",
   "metadata": {},
   "outputs": [],
   "source": []
  },
  {
   "cell_type": "code",
   "execution_count": null,
   "id": "8705fb36-69bd-4539-af8c-53e10cf12785",
   "metadata": {},
   "outputs": [],
   "source": []
  }
 ],
 "metadata": {
  "kernelspec": {
   "display_name": "Python 3 (ipykernel)",
   "language": "python",
   "name": "python3"
  },
  "language_info": {
   "codemirror_mode": {
    "name": "ipython",
    "version": 3
   },
   "file_extension": ".py",
   "mimetype": "text/x-python",
   "name": "python",
   "nbconvert_exporter": "python",
   "pygments_lexer": "ipython3",
   "version": "3.12.4"
  }
 },
 "nbformat": 4,
 "nbformat_minor": 5
}
