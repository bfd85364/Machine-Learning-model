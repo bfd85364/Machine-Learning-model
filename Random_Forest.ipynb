{
 "cells": [
  {
   "cell_type": "code",
   "execution_count": 18,
   "id": "3703a571-0907-4910-9c65-351d07f62bf8",
   "metadata": {},
   "outputs": [
    {
     "name": "stdout",
     "output_type": "stream",
     "text": [
      "<class 'pandas.core.frame.DataFrame'>\n",
      "RangeIndex: 344 entries, 0 to 343\n",
      "Data columns (total 7 columns):\n",
      " #   Column             Non-Null Count  Dtype  \n",
      "---  ------             --------------  -----  \n",
      " 0   species            344 non-null    object \n",
      " 1   island             344 non-null    object \n",
      " 2   bill_length_mm     342 non-null    float64\n",
      " 3   bill_depth_mm      342 non-null    float64\n",
      " 4   flipper_length_mm  342 non-null    float64\n",
      " 5   body_mass_g        342 non-null    float64\n",
      " 6   sex                333 non-null    object \n",
      "dtypes: float64(4), object(3)\n",
      "memory usage: 18.9+ KB\n",
      "<class 'pandas.core.frame.DataFrame'>\n",
      "RangeIndex: 344 entries, 0 to 343\n",
      "Data columns (total 7 columns):\n",
      " #   Column             Non-Null Count  Dtype  \n",
      "---  ------             --------------  -----  \n",
      " 0   species            344 non-null    int32  \n",
      " 1   island             344 non-null    int32  \n",
      " 2   bill_length_mm     342 non-null    float64\n",
      " 3   bill_depth_mm      342 non-null    float64\n",
      " 4   flipper_length_mm  342 non-null    float64\n",
      " 5   body_mass_g        342 non-null    float64\n",
      " 6   sex                344 non-null    int32  \n",
      "dtypes: float64(4), int32(3)\n",
      "memory usage: 14.9 KB\n",
      "              precision    recall  f1-score   support\n",
      "\n",
      "           0       0.98      0.96      0.97        45\n",
      "           1       0.86      0.95      0.90        19\n",
      "           2       1.00      0.97      0.99        40\n",
      "\n",
      "    accuracy                           0.96       104\n",
      "   macro avg       0.94      0.96      0.95       104\n",
      "weighted avg       0.96      0.96      0.96       104\n",
      "\n"
     ]
    },
    {
     "data": {
      "text/plain": [
       "Text(95.72222222222221, 0.5, 'Actual')"
      ]
     },
     "execution_count": 18,
     "metadata": {},
     "output_type": "execute_result"
    },
    {
     "data": {
      "image/png": "[encoded data removed]",
      "text/plain": [
       "<Figure size 1000x700 with 2 Axes>"
      ]
     },
     "metadata": {},
     "output_type": "display_data"
    }
   ],
   "source": [
    "import pandas as pd\n",
    "import numpy as np \n",
    "from sklearn.ensemble import RandomForestClassifier\n",
    "from sklearn.model_selection import train_test_split\n",
    "from sklearn.tree import DecisionTreeClassifier\n",
    "from sklearn.preprocessing import LabelEncoder, MinMaxScaler\n",
    "from sklearn.metrics import confusion_matrix, accuracy_score, classification_report\n",
    "import matplotlib.pyplot as plt\n",
    "%matplotlib inline\n",
    "import seaborn as sn\n",
    "\n",
    "df = sn.load_dataset('penguins')\n",
    "df.sample(10)\n",
    "\n",
    "df.info()\n",
    "\n",
    "lb = LabelEncoder()\n",
    "data = df\n",
    "data['species'] = lb.fit_transform(data['species'])\n",
    "data['island'] = lb.fit_transform(data['island'])\n",
    "data['sex'] = lb.fit_transform(data['sex'])\n",
    "\n",
    "data.info()\n",
    "\n",
    "\n",
    "\n",
    "data.replace([np.Inf, -np.Inf], np.nan, inplace = True)\n",
    "data.replace(np.nan, 0, inplace = True)\n",
    "\n",
    "X = data\n",
    "Y = X['species']\n",
    "X.drop('species', axis = 1, inplace = True)\n",
    "\n",
    "ms = MinMaxScaler()\n",
    "X = ms.fit_transform(X)\n",
    "\n",
    "xtrain, xtest, ytrain, ytest = train_test_split(X, Y, test_size = 0.3, random_state = 5)\n",
    "\n",
    "model = RandomForestClassifier(n_estimators = 7, criterion = 'entropy', random_state = 0)\n",
    "\n",
    "model.fit(xtrain, ytrain)\n",
    "\n",
    "pred = model.predict(xtest)\n",
    "\n",
    "cr = classification_report(ytest, pred)\n",
    "print(cr)\n",
    "\n",
    "cm = confusion_matrix(ytest, pred)\n",
    "\n",
    "plt.figure(figsize = (10, 7))\n",
    "sn.heatmap(cm, annot = True, fmt = 'd')\n",
    "plt.xlabel('Prediction')\n",
    "plt.ylabel('Actual')"
   ]
  },
  {
   "cell_type": "code",
   "execution_count": 8,
   "id": "8bf6ae25-f860-4376-b682-be5432d9b71e",
   "metadata": {},
   "outputs": [
    {
     "name": "stdout",
     "output_type": "stream",
     "text": [
      "|--- feature_3 <= 0.90\n",
      "|   |--- feature_1 <= 0.71\n",
      "|   |   |--- feature_2 <= 0.78\n",
      "|   |   |   |--- class: 0\n",
      "|   |   |--- feature_2 >  0.78\n",
      "|   |   |   |--- class: 0\n",
      "|   |--- feature_1 >  0.71\n",
      "|   |   |--- feature_4 <= 0.65\n",
      "|   |   |   |--- class: 1\n",
      "|   |   |--- feature_4 >  0.65\n",
      "|   |   |   |--- class: 0\n",
      "|--- feature_3 >  0.90\n",
      "|   |--- feature_2 <= 0.79\n",
      "|   |   |--- class: 2\n",
      "|   |--- feature_2 >  0.79\n",
      "|   |   |--- class: 1\n",
      "\n"
     ]
    }
   ],
   "source": [
    "from sklearn import tree\n",
    "text_representation = tree.export_text(DC_tree)\n",
    "print(text_representation)"
   ]
  },
  {
   "cell_type": "code",
   "execution_count": 50,
   "id": "7887d3c4-af33-472f-928d-7886a84a7111",
   "metadata": {},
   "outputs": [
    {
     "name": "stdout",
     "output_type": "stream",
     "text": [
      "              precision    recall  f1-score   support\n",
      "\n",
      "           0       0.98      0.96      0.97        45\n",
      "           1       0.90      0.95      0.92        19\n",
      "           2       1.00      1.00      1.00        40\n",
      "\n",
      "    accuracy                           0.97       104\n",
      "   macro avg       0.96      0.97      0.96       104\n",
      "weighted avg       0.97      0.97      0.97       104\n",
      "\n",
      "              precision    recall  f1-score   support\n",
      "\n",
      "           0       0.93      0.96      0.95        45\n",
      "           1       0.90      0.95      0.92        19\n",
      "           2       1.00      0.95      0.97        40\n",
      "\n",
      "    accuracy                           0.95       104\n",
      "   macro avg       0.94      0.95      0.95       104\n",
      "weighted avg       0.95      0.95      0.95       104\n",
      "\n"
     ]
    }
   ],
   "source": [
    "\n",
    "model = RandomForestClassifier()\n",
    "\n",
    "model.fit(xtrain,ytrain)\n",
    "\n",
    "pred1 = model.predict(xtest)\n",
    "\n",
    "DC_tree= DecisionTreeClassifier()\n",
    "\n",
    "DC_tree.fit(xtrain,ytrain)\n",
    "\n",
    "pred2 = DC_tree.predict(xtest)\n",
    "\n",
    "cr1 =classification_report(ytest, pred1)\n",
    "print(cr1)\n",
    "\n",
    "cr2 =classification_report(ytest, pred2)\n",
    "print(cr2)\n",
    "\n"
   ]
  },
  {
   "cell_type": "code",
   "execution_count": 54,
   "id": "3e54763e-0c8b-4c43-94aa-9f662fced835",
   "metadata": {},
   "outputs": [
    {
     "data": {
      "image/png": "[encoded data removed]",
      "text/plain": [
       "<Figure size 640x480 with 1 Axes>"
      ]
     },
     "metadata": {},
     "output_type": "display_data"
    }
   ],
   "source": [
    "import matplotlib.pyplot as plt\n",
    "import numpy as np\n",
    "\n",
    "# 데이터\n",
    "labels = ['accuracy', 'precision', 'recall']\n",
    "Random_Forest = [0.97, 0.98, 0.96]\n",
    "DC_tree= [0.95, 0.93, 0.66]\n",
    "x = np.arange(len(labels))\n",
    "width = 0.35\n",
    "\n",
    "# 그래프 그리기\n",
    "plt.bar(x - width/2, Random_Forest, width, label='Random_Forest')\n",
    "plt.bar(x + width/2, DC_tree, width, label='DC_tree')\n",
    "\n",
    "# 세부 설정\n",
    "plt.xticks(x, labels)\n",
    "plt.xlabel('value')\n",
    "plt.ylabel('score')\n",
    "plt.legend()\n",
    "\n",
    "# 그래프 표시\n",
    "plt.show()\n"
   ]
  },
  {
   "cell_type": "code",
   "execution_count": null,
   "id": "6260959a-bc47-4f97-96ae-859cbccf931e",
   "metadata": {},
   "outputs": [],
   "source": []
  }
 ],
 "metadata": {
  "kernelspec": {
   "display_name": "Python 3 (ipykernel)",
   "language": "python",
   "name": "python3"
  },
  "language_info": {
   "codemirror_mode": {
    "name": "ipython",
    "version": 3
   },
   "file_extension": ".py",
   "mimetype": "text/x-python",
   "name": "python",
   "nbconvert_exporter": "python",
   "pygments_lexer": "ipython3",
   "version": "3.12.4"
  }
 },
 "nbformat": 4,
 "nbformat_minor": 5
}
